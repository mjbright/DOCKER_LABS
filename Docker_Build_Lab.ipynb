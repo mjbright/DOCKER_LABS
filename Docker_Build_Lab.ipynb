{
 "cells": [
  {
   "cell_type": "markdown",
   "metadata": {},
   "source": [
    "# Lab Outline\n",
    "\n",
    "## Online\n",
    "\n",
    "#### This document\n",
    "<font color=\"#f22\" >\n",
    "You can find the most up-to-date version of this document online [here](https://github.com/mjbright/DOCKER_LABS/blob/master/Docker_Build_Lab.md) or as\n",
    "<br/>\n",
    "- a [PDF file](https://raw.githubusercontent.com/mjbright/DOCKER_LABS/master/Docker_Build_Lab.pdf) (http://bit.ly/1QF0XaH)  or as\n",
    "<br/>\n",
    "- a [Jupyter](http://www.jupyter.org) notebook at [Docker_Build_Lab](https://github.com/mjbright/DOCKER_LABS/blob/master/Docker_Build_Lab/).\n",
    "</font>\n",
    "\n",
    "This notebook is runnable in a Jupyter installation with the bash_kernel installed.\n",
    "\n",
    "Although that is not the subject of this lab, if you want to create your own environment in which to run this lab with Docker components already installed (and even Jupyter/bash_kernel), refer to the README.md [here](https://github.com/mjbright/DOCKER_LABS/blob/master/)\n",
    "\n",
    "<br/><br/><br/>\n",
    "<center><font size=-1 color=\"#77f\">\n",
    "    <i class=\"fa-linkedin fa-2x fa\"> [mjbright](https://www.linkedin.com/in/mjbright)</i>,&nbsp;&nbsp;&nbsp;&nbsp;&nbsp;&nbsp;&nbsp;&nbsp;\n",
    "    <i class=\"fa-github fa-2x fa\"> [mjbright](https://github.com/mjbright)</i>,&nbsp;&nbsp;&nbsp;&nbsp;&nbsp;&nbsp;&nbsp;&nbsp;\n",
    "    <i class=\"fa-twitter fa-2x fa\">[@mjbright](http://twitter.com/mjbright)</i>,\n",
    "</font></center>\n"
   ]
  },
  {
   "cell_type": "markdown",
   "metadata": {},
   "source": [
    "<a name=\"TOP\"></a>\n",
    "## Lab-Description\n",
    "[TOP](#TOP)\n",
    "\n",
    "\n",
    "We first need to recuperate the source code examples:\n",
    "\n",
    "<font color=\"#f22\">\n",
    "### Lab Start\n",
    "</font>\n",
    "Start this lab by first performing the below step:"
   ]
  },
  {
   "cell_type": "code",
   "execution_count": null,
   "metadata": {
    "collapsed": false
   },
   "outputs": [],
   "source": [
    "## Lab Start:\n",
    "\n",
    "rm -rf ~/src\n",
    "\n",
    "cd\n",
    "git clone https://github.com/mjbright/docker-examples src\n",
    "\n",
    "./src/START_LAB.sh"
   ]
  },
  {
   "cell_type": "markdown",
   "metadata": {},
   "source": [
    "Then procede with the following sections:\n",
    "\n",
    "- [1. Introduction](#intro)\n",
    "- [2. Basic Docker Builds](#builds)\n",
    "- [3. Creating Small Images](#small-images)\n",
    "  - [Creating a small binary with C](#small-c)\n",
    "  - [Creating a small binary with Go](#small-go)\n",
    "  - [Creating a toolset Docker image containing several executables](#small-push)\n",
    "  \n",
    "- [4. Pushing our image to Docker Hub](#small-multi)\n",
    "  \n",
    "- [5. Dockerfile best practices](#build-best-practices)\n",
    "\n",
    "- [6. Using the official 'Language Stack' images](#lang-stacks)\n",
    "  - [Using a Language Stack (Node.js)](#medium-node)\n",
    "  - [Using a Language Stack (Python)](#medium-python)\n",
    "  \n",
    "- [7. Using Compose](#compose)\n",
    "  - [Building complex systems with Compose](#Compose)\n",
    "  - [Rails example with Compose](#Rails-Example-with-Compose)\n",
    "  \n",
    "- [8. Building Docker](#building-docker)\n",
    "  - [Building Docker with Docker](#Building-Docker-with-Docker)\n",
    "\n",
    "[References](#References)\n",
    "\n",
    "<hr/>\n",
    "  \n",
    "### Overall description of the lab steps\n",
    "\n",
    "**NOTE: All lab steps can be considered optional, attendees may perform them in order, or jump to the section of interest to them (to get to the more complicated steps)**\n"
   ]
  },
  {
   "cell_type": "markdown",
   "metadata": {},
   "source": [
    "<a name=\"1.intro\" />\n",
    "# Introduction\n",
    "## A refresh on Docker concepts\n",
    "\n",
    "You may want to skip this section if you have already run the introductory lab.\n",
    "\n",
    "Look at what docker version you are running.\n",
    "Note that the 'docker version' command reports the local client version as well as the server (docker engine) version."
   ]
  },
  {
   "cell_type": "code",
   "execution_count": 2,
   "metadata": {
    "collapsed": false
   },
   "outputs": [
    {
     "name": "stdout",
     "output_type": "stream",
     "text": [
      "Client:\r\n",
      " Version:      1.10.0\r\n",
      " API version:  1.22\r\n",
      " Go version:   go1.5.3\r\n",
      " Git commit:   590d5108\r\n",
      " Built:        Thu Feb  4 19:55:25 2016\r\n",
      " OS/Arch:      linux/amd64\r\n",
      "\r\n",
      "Server:\r\n",
      " Version:      1.10.0\r\n",
      " API version:  1.22\r\n",
      " Go version:   go1.5.3\r\n",
      " Git commit:   590d5108\r\n",
      " Built:        Thu Feb  4 19:55:25 2016\r\n",
      " OS/Arch:      linux/amd64\r\n"
     ]
    }
   ],
   "source": [
    "docker version"
   ]
  },
  {
   "cell_type": "markdown",
   "metadata": {},
   "source": [
    "### Images are image layers\n",
    "\n",
    "Remember that when we talk of a container image it is really a collection of image layers.\n",
    "\n",
    "The docker info command provides information about the docker engine, see below."
   ]
  },
  {
   "cell_type": "code",
   "execution_count": null,
   "metadata": {
    "collapsed": false
   },
   "outputs": [],
   "source": [
    "docker info"
   ]
  },
  {
   "cell_type": "markdown",
   "metadata": {},
   "source": [
    "But if we look at the number of containers and images, the number of images it is not the same as provided above.\n",
    "Why do you think that is?\n",
    "\n",
    "First let's list the number of running and number of stopped containers\n",
    "\n",
    "**NOTE: the value on your system will be different**"
   ]
  },
  {
   "cell_type": "code",
   "execution_count": null,
   "metadata": {
    "collapsed": false
   },
   "outputs": [],
   "source": [
    "# Show the running containers:\n",
    "docker ps\n",
    "\n",
    "# Count the number of running containers:\n",
    "echo\n",
    "echo \"Total number of running containers:\"\n",
    "docker ps | tail -n +2 | wc -l"
   ]
  },
  {
   "cell_type": "code",
   "execution_count": null,
   "metadata": {
    "collapsed": false
   },
   "outputs": [],
   "source": [
    "# Show all the containers (running or stopped):\n",
    "docker ps -a\n",
    "\n",
    "# Count all the containers (running or stopped):\n",
    "echo\n",
    "echo \"Total number of containers (running or stopped):\"\n",
    "docker ps -a | tail -n +2 | wc -l # Number of stopped and running containers ('tail -n +2' excludes the header line)"
   ]
  },
  {
   "cell_type": "markdown",
   "metadata": {},
   "source": [
    "We can see that the number of containers reported by docker info correctly reports the number of total containers, running or not\n",
    "\n",
    "But listing images gives a different value from the 'docker info' value"
   ]
  },
  {
   "cell_type": "code",
   "execution_count": null,
   "metadata": {
    "collapsed": false
   },
   "outputs": [],
   "source": [
    "# Show the images:\n",
    "docker images\n",
    "\n",
    "# Count the images:\n",
    "echo\n",
    "echo \"Total number of images:\"\n",
    "docker images | tail -n +2 | wc -l"
   ]
  },
  {
   "cell_type": "markdown",
   "metadata": {},
   "source": [
    "That is because there are many intermediate image layers which are not normally listed.\n",
    "But we can list those layers using the '-a' option and now we see a number close to the value from 'docker info'.\n",
    "\n",
    "(We will see later how the 'docker history' command allows us to see how the layers were created)."
   ]
  },
  {
   "cell_type": "code",
   "execution_count": null,
   "metadata": {
    "collapsed": false
   },
   "outputs": [],
   "source": [
    "# Show all the image layers:\n",
    "docker images -a\n",
    "\n",
    "# Count all the image layers:\n",
    "echo\n",
    "echo \"Total number of image layers:\"\n",
    "\n",
    "docker images -a | tail -n +2 | wc -l  # The number of image layers+1 (inc. header line)"
   ]
  },
  {
   "cell_type": "markdown",
   "metadata": {},
   "source": [
    "Images can include 1 static binary file or more and can even include a whole distribution.\n",
    "Launching a container launches a single process within that container - which may in turn span other child processes.\n",
    "\n",
    "Let us look at an extremely small image to have an idea just how small an executable image can be.\n",
    "Docker provide an official 'hello-world' image which simply echoes some output to the console.\n",
    "\n",
    "Let's run that image to see and then investigate the image.\n",
    "First let's search for the image; we see that the first image is 'hello-world' which is an official build"
   ]
  },
  {
   "cell_type": "code",
   "execution_count": null,
   "metadata": {
    "collapsed": false
   },
   "outputs": [],
   "source": [
    "docker search hello-world"
   ]
  },
  {
   "cell_type": "markdown",
   "metadata": {},
   "source": [
    "Let's now run that image"
   ]
  },
  {
   "cell_type": "code",
   "execution_count": null,
   "metadata": {
    "collapsed": false
   },
   "outputs": [],
   "source": [
    "docker run hello-world\n",
    "\n",
    "# Note how we see the pulling of the image if not already available locally:"
   ]
  },
  {
   "cell_type": "markdown",
   "metadata": {},
   "source": [
    "If it took a while to run, this was due to the time needed to download the image before running it - see above.\n",
    "\n",
    "Try the command a second time to see how it runs instantaneously as there is no need to download the image which already exists locally on the 'docker engine'."
   ]
  },
  {
   "cell_type": "code",
   "execution_count": null,
   "metadata": {
    "collapsed": false
   },
   "outputs": [],
   "source": [
    "docker run hello-world\n",
    "\n",
    "# The second time there is no need to repull the image:"
   ]
  },
  {
   "cell_type": "markdown",
   "metadata": {},
   "source": [
    "Let us inspect the image.  We see that the file is only 960 bytes large, it must be machine code to print out the text.  So we see that an image can be really very small"
   ]
  },
  {
   "cell_type": "code",
   "execution_count": null,
   "metadata": {
    "collapsed": false
   },
   "outputs": [],
   "source": [
    "docker images hello-world"
   ]
  },
  {
   "cell_type": "markdown",
   "metadata": {},
   "source": [
    "We can also inspect the image with the history command to see how it was constructed.\n",
    "\n",
    "Note that history shows the image layers in reverse order, latest first.\n",
    "\n",
    "From the below command we can see that the image was created from only 2 image layers.\n",
    "\n",
    "The image was built simply by copying in a binary executable and then specifying the default command to invoke when the image is run."
   ]
  },
  {
   "cell_type": "code",
   "execution_count": null,
   "metadata": {
    "collapsed": false
   },
   "outputs": [],
   "source": [
    "docker history hello-world"
   ]
  },
  {
   "cell_type": "code",
   "execution_count": null,
   "metadata": {
    "collapsed": false
   },
   "outputs": [],
   "source": [
    "echo\n",
    "echo \"Total size (in bytes) of text in 'hello-world' image:\"\n",
    "docker run hello-world | wc -c"
   ]
  },
  {
   "cell_type": "markdown",
   "metadata": {
    "collapsed": false
   },
   "source": [
    "So we see that 801 bytes of that executable is the actual text printed !\n",
    "So the real program size is roughly 160 bytes (of assembler no doubt)"
   ]
  },
  {
   "cell_type": "markdown",
   "metadata": {},
   "source": [
    "<a name=\"builds\" />\n",
    "## Basic Docker Builds\n",
    "[TOP](#TOP)"
   ]
  },
  {
   "cell_type": "markdown",
   "metadata": {},
   "source": [
    "#### Dockerfile\n",
    "\n",
    "Images are built from Dockerfiles which contain a series of commands used to build up a docker image.\n",
    "Note that each command in the Dockerfile results in a new image layer being created, no matter how trivial the command - even ENV \"commands\" create a new image layer.\n",
    "\n",
    "In the following lab we will see how images can be built systematically from a Dockerfile using the 'docker build' command.\n",
    "\n",
    "#### DockerHub\n",
    "\n",
    "When we pull an image we pull it from a Docker Registry.  The [DockerHub](https://hub.docker.com/) is a free to use Docker registry allowing to store your own image files (which are publicly available unless you pay for your account) and to pull other image files of other users or officially provided images.\n",
    "\n",
    "You can create images either by\n",
    "- building them from a Dockerfile (thus in a **repeatable** manner)\n",
    "- building them manually by modifying a running container and *'commit'*ing it's state\n",
    "\n",
    "The DockerHub contains images which may be\n",
    "- **Automated builds** (built from a git repository)\n",
    "  - Such builds are usually built from an open-source git repo and so are called **Trusted builds** because the source code is available.\n",
    "    *Note:* The github repo may contain binary files though\n",
    "- **Official builds** are builds which are builds provided by partners or by Docker themselves\n",
    "\n",
    "Other images may exist in the hub but their origin is unknown and so represent a security risk.\n",
    "\n",
    "It is possible to search the DockerHub, or another Docker Registry, using the 'docker search' command with appropriate options.  Other companies offer their own Docker Registry which may be freely accessible e.g. RedHat, internal to a company e.g. HPE IT, or available as part of a paid for service e.g. IBM or Amazon Web Services ECS.\n"
   ]
  },
  {
   "cell_type": "code",
   "execution_count": null,
   "metadata": {
    "collapsed": false
   },
   "outputs": [],
   "source": [
    "cd ~/src/basic"
   ]
  },
  {
   "cell_type": "markdown",
   "metadata": {},
   "source": [
    "In the ~/test folder create a Dockerfile with the contents shown below (the o/p of the cat command).\n",
    "\n",
    "For this you may use vi if you are familiar, otherwise the 'nano' text editor is recommended.\n",
    "\n",
    "Use ctrl-W to write out the file and ctrl-X to quit the editor."
   ]
  },
  {
   "cell_type": "code",
   "execution_count": null,
   "metadata": {
    "collapsed": false
   },
   "outputs": [],
   "source": [
    "cat Dockerfile"
   ]
  },
  {
   "cell_type": "code",
   "execution_count": null,
   "metadata": {
    "collapsed": false
   },
   "outputs": [],
   "source": [
    "ls -altr Dockerfile"
   ]
  },
  {
   "cell_type": "markdown",
   "metadata": {},
   "source": [
    "We can now build a new image using this dockerfile using the below command where\n",
    "    \n",
    "- we specify the current directory as the context for the build (any ADD/COPY or Dockerfile files will be sourced from here) with\n",
    "    the **'.'** option\n",
    "- we specify the specific tag to use for the generated image as \"*lab/basic*\" with\n",
    "\n",
    "    **-t lab/basic**"
   ]
  },
  {
   "cell_type": "code",
   "execution_count": null,
   "metadata": {
    "collapsed": false
   },
   "outputs": [],
   "source": [
    "docker build -t lab/basic . "
   ]
  },
  {
   "cell_type": "markdown",
   "metadata": {},
   "source": [
    "Note that during the build, the RUN commands are actually run.\n",
    "\n",
    "They are used to build up this new image.\n",
    "\n",
    "In this case we echo the 'Python' version string during the build process.\n",
    "\n",
    "You can see the available options to the build command by issuing\n",
    " 'docker build --help'"
   ]
  },
  {
   "cell_type": "code",
   "execution_count": null,
   "metadata": {
    "collapsed": false
   },
   "outputs": [],
   "source": [
    "docker build --help"
   ]
  },
  {
   "cell_type": "markdown",
   "metadata": {},
   "source": [
    "We can see all the images available using the\n",
    " 'docker images' command\n",
    " \n",
    "but if there are many, how do we see just our newly-created image?\n",
    "\n",
    "You can see the available options to the images command by issuing\n",
    " 'docker images --help'"
   ]
  },
  {
   "cell_type": "code",
   "execution_count": null,
   "metadata": {
    "collapsed": false
   },
   "outputs": [],
   "source": [
    "docker images --help"
   ]
  },
  {
   "cell_type": "markdown",
   "metadata": {},
   "source": [
    "So you can see your newly built 'lab/basic' with the following command:"
   ]
  },
  {
   "cell_type": "code",
   "execution_count": null,
   "metadata": {
    "collapsed": false
   },
   "outputs": [],
   "source": [
    "docker images lab/basic"
   ]
  },
  {
   "cell_type": "markdown",
   "metadata": {},
   "source": [
    "Note that if you rerun the build command, the build should run faster, you will notice how build steps recognize that this step has already been performed and so will use the image layer already available in the local cache."
   ]
  },
  {
   "cell_type": "markdown",
   "metadata": {},
   "source": [
    "Now let us see what happens if we modify our Dockerfile, by inserting a line, such as defining an environment variable.\n",
    "\n",
    "We will use the same Dockerfile, but this time we will insert an \"ENV\" line\n"
   ]
  },
  {
   "cell_type": "code",
   "execution_count": null,
   "metadata": {
    "collapsed": false
   },
   "outputs": [],
   "source": [
    "cd ~/src/basic/"
   ]
  },
  {
   "cell_type": "markdown",
   "metadata": {},
   "source": [
    "Now edit the Dockerfile to have the contents as shown below (the o/p of the cat command)."
   ]
  },
  {
   "cell_type": "code",
   "execution_count": null,
   "metadata": {
    "collapsed": false
   },
   "outputs": [],
   "source": [
    "cat Dockerfile"
   ]
  },
  {
   "cell_type": "markdown",
   "metadata": {},
   "source": [
    "This time when we build the image we will see that the addition of a line between the \"RUN\" line and the \"CMD\" line forces rebuild of subsequent image layers.\n",
    "\n",
    "**We see 'Using cache' for Step 2 and 3 only**"
   ]
  },
  {
   "cell_type": "code",
   "execution_count": null,
   "metadata": {
    "collapsed": false
   },
   "outputs": [],
   "source": [
    "docker build -t lab/basic . "
   ]
  },
  {
   "cell_type": "markdown",
   "metadata": {},
   "source": [
    "Similarly we can force to not use the cache with the --no-cache option.\n",
    "\n",
    "This could be useful if we suspect the caching is not working properly due to some external change."
   ]
  },
  {
   "cell_type": "code",
   "execution_count": null,
   "metadata": {
    "collapsed": false
   },
   "outputs": [],
   "source": [
    "docker build --no-cache -t lab/basic . "
   ]
  },
  {
   "cell_type": "code",
   "execution_count": null,
   "metadata": {
    "collapsed": false
   },
   "outputs": [],
   "source": [
    "docker images lab/basic"
   ]
  },
  {
   "cell_type": "markdown",
   "metadata": {},
   "source": [
    "<a name=\"small-images\" />\n",
    "## Creating small images\n",
    "[TOP](#TOP)\n",
    "\n",
    "<a name=\"small-c\" />\n",
    "## Creating a small C Docker image\n",
    "[TOP](#TOP)\n",
    "\n",
    "In this example we show how we can create a Docker image from a statically-linked binary.\n",
    "\n",
    "<font size=+1 color=\"#77f\">\n",
    "<b>The goal of this step is to show that we do not need an Operating System image for a Docker container.</b>\n",
    "</font>\n",
    "\n",
    "All we need is a self-contained binary - i.e. statically linked binary.\n",
    "\n",
    "Of course a dynamically linked binary could also be used, but in this case it's more complicated as you would have to manually add all it's dependent libraries.  Let's let gcc to do that work for us!\n",
    "\n",
    "This section comprises 2 things\n",
    "- A Dockerfile to build our image from a static binary\n",
    "  Note that it starts with \"FROM scratch\".\n",
    "  Scratch is a special 'empty' image\n",
    "- helloFromDocker.c\n",
    "  "
   ]
  },
  {
   "cell_type": "markdown",
   "metadata": {},
   "source": [
    "So first let's build our static binary"
   ]
  },
  {
   "cell_type": "code",
   "execution_count": null,
   "metadata": {
    "collapsed": false
   },
   "outputs": [],
   "source": [
    "cd ~/src/createTinyC/\n",
    "\n",
    "# For RHEL/Fedora/Centos only:\n",
    "# First we must install *glibc-static*\n",
    "#yum install -y glibc-static\n",
    "\n",
    "gcc -static helloWorld.c -o helloWorld\n",
    "\n",
    "ls -alh helloWorld"
   ]
  },
  {
   "cell_type": "markdown",
   "metadata": {},
   "source": [
    "So we see that this created a binary file of approximately 857kby.\n",
    "\n",
    "Now let's build our Docker image containing this binary.\n",
    "\n",
    "You will need to recreate the Dockerfile as follows:"
   ]
  },
  {
   "cell_type": "code",
   "execution_count": null,
   "metadata": {
    "collapsed": false
   },
   "outputs": [],
   "source": [
    "cat Dockerfile"
   ]
  },
  {
   "cell_type": "code",
   "execution_count": null,
   "metadata": {
    "collapsed": false
   },
   "outputs": [],
   "source": [
    "docker build -t lab/c_prog ."
   ]
  },
  {
   "cell_type": "markdown",
   "metadata": {},
   "source": [
    "If we now look at the generated Docker image (below) we see an image of about 877kby.\n",
    "\n",
    "So whilst this is larger than the 1kby hello-world image (no doubt written in assembler) it is still a very small Docker image which is only 20kbytes larger than the original binary file."
   ]
  },
  {
   "cell_type": "code",
   "execution_count": null,
   "metadata": {
    "collapsed": false
   },
   "outputs": [],
   "source": [
    "docker images lab/c_prog"
   ]
  },
  {
   "cell_type": "markdown",
   "metadata": {},
   "source": [
    "And now let's run that image"
   ]
  },
  {
   "cell_type": "code",
   "execution_count": null,
   "metadata": {
    "collapsed": false
   },
   "outputs": [],
   "source": [
    "docker run lab/c_prog"
   ]
  },
  {
   "cell_type": "code",
   "execution_count": null,
   "metadata": {
    "collapsed": false
   },
   "outputs": [],
   "source": [
    "docker history lab/c_prog"
   ]
  },
  {
   "cell_type": "markdown",
   "metadata": {},
   "source": [
    "<a name=\"small-go\" />\n",
    "## Creating a small Go Docker image\n",
    "[TOP](#TOP)\n",
    "\n",
    "That's fine, but isn't Go taking over the world as a systems language?\n",
    "Docker, Kubernetes, LXD, Rocket, ... many new tools are being written in Go.\n",
    "\n",
    "Let's see how we can do the same exercise but building a Go statically-linked binary.\n",
    "\n",
    "<font size=+1 color=\"#77f\">\n",
    "<b>The goal of this step is as the previous step (building an image from a single statically-linked binary) but using Go, but also to demonstrate how we can use a Docker image containing a Go compiler, rather than explicitly installing a compiler.</b>\n",
    "</font>\n",
    "\n",
    "**NOTE:** We will do this **without** 'installing a Go compiler'\n",
    "\n",
    "\n",
    "\n",
    "  "
   ]
  },
  {
   "cell_type": "code",
   "execution_count": null,
   "metadata": {
    "collapsed": false
   },
   "outputs": [],
   "source": [
    "cd ~/src/createTinyGo\n",
    "cat Dockerfile"
   ]
  },
  {
   "cell_type": "markdown",
   "metadata": {},
   "source": [
    "**NOW we invoke the golang container** to build our go source code.\n",
    "\n",
    "The following docker run\n",
    "- mounts the current directory ($PWD) as /go within the container\n",
    "- launches a container of the **golang** image which contains the go compiler\n",
    "- invokes the command \"go build -v hello\" on the container to build the sources for the \"hello.go\" code.\n",
    "\n",
    "The hello.go code is located under src/hello/hello.go.\n",
    "\n",
    "This is a Go convention.\n",
    "\n",
    "**NOTE:** The important thing to note here is that the compiler is within the image.  We did not need to install a native Go compiler, we used an image which contains the compiler and by mounting the current directory the container can read the source code and write the executable outside the container.  This is a nice pattern of providing a tool within a container.\n"
   ]
  },
  {
   "cell_type": "code",
   "execution_count": null,
   "metadata": {
    "collapsed": false
   },
   "outputs": [],
   "source": [
    "# Compile our Go-code using the Go compiler provided by the 'golang' container:\n",
    "docker run -it -v $PWD:/go golang go build hello\n",
    "\n",
    "# Now we have our small static binary compiled\n",
    "ls -l hello"
   ]
  },
  {
   "cell_type": "markdown",
   "metadata": {},
   "source": [
    "Now we can build our image including this static binary."
   ]
  },
  {
   "cell_type": "code",
   "execution_count": null,
   "metadata": {
    "collapsed": false
   },
   "outputs": [],
   "source": [
    "docker build -t lab/go-hello ."
   ]
  },
  {
   "cell_type": "code",
   "execution_count": null,
   "metadata": {
    "collapsed": false
   },
   "outputs": [],
   "source": [
    "docker images lab/*"
   ]
  },
  {
   "cell_type": "markdown",
   "metadata": {
    "collapsed": true
   },
   "source": [
    "<a name=\"small-multi\"/>\n",
    "## Creating a toolset Docker image containing several executables\n",
    "[TOP](#TOP)\n",
    "\n",
    "Now let's see how we can combine these static binaries into one image.\n",
    "\n",
    "Let's build a new image derived from the Docker provided 'hello-world' image\n",
    "\n",
    "<font size=+1 color=\"#77f\">\n",
    "<b>The goal of this step is to show how we can combine several executables in an image, opening up the possibility of creating a container of tools.</b>\n",
    "</font>\n",
    "\n",
    "We will do this without directly 'installing a Go compiler' but by using the official *'golang'* image which includes the Go compiler."
   ]
  },
  {
   "cell_type": "code",
   "execution_count": null,
   "metadata": {
    "collapsed": false
   },
   "outputs": [],
   "source": [
    "cd ~/src/toolset\n",
    "\n",
    "cp ../createTinyC/helloWorld   helloWorld\n",
    "cp ../createTinyGo/hello       helloWorldGo\n",
    "\n",
    "ls -altr"
   ]
  },
  {
   "cell_type": "markdown",
   "metadata": {},
   "source": [
    "Create the Dockerfile with the following contents"
   ]
  },
  {
   "cell_type": "code",
   "execution_count": null,
   "metadata": {
    "collapsed": false
   },
   "outputs": [],
   "source": [
    "cat Dockerfile"
   ]
  },
  {
   "cell_type": "markdown",
   "metadata": {},
   "source": [
    "Now build the toolset with these executables included:"
   ]
  },
  {
   "cell_type": "code",
   "execution_count": null,
   "metadata": {
    "collapsed": false
   },
   "outputs": [],
   "source": [
    "docker build -t lab/toolset ./"
   ]
  },
  {
   "cell_type": "markdown",
   "metadata": {},
   "source": [
    "If we look at the history of this image we can see the different executables and CMDs which have been added including the original hello-world image."
   ]
  },
  {
   "cell_type": "code",
   "execution_count": null,
   "metadata": {
    "collapsed": false
   },
   "outputs": [],
   "source": [
    "docker history lab/toolset"
   ]
  },
  {
   "cell_type": "markdown",
   "metadata": {},
   "source": [
    "Now we are free to specify which command is to be run.\n",
    "\n",
    "If we don't specify the command, the last (first in the above history list) will be run (so /helloWorldGo in this case)"
   ]
  },
  {
   "cell_type": "code",
   "execution_count": null,
   "metadata": {
    "collapsed": false
   },
   "outputs": [],
   "source": [
    "docker run lab/toolset"
   ]
  },
  {
   "cell_type": "markdown",
   "metadata": {},
   "source": [
    "Or we can explicitly choose the executable to be run, such as the /hello executable of the original \"hello-world\" image"
   ]
  },
  {
   "cell_type": "code",
   "execution_count": null,
   "metadata": {
    "collapsed": false
   },
   "outputs": [],
   "source": [
    "docker run lab/toolset /hello"
   ]
  },
  {
   "cell_type": "code",
   "execution_count": null,
   "metadata": {
    "collapsed": false
   },
   "outputs": [],
   "source": [
    "docker run lab/toolset /helloWorld"
   ]
  },
  {
   "cell_type": "code",
   "execution_count": null,
   "metadata": {
    "collapsed": false
   },
   "outputs": [],
   "source": [
    "docker run lab/toolset /helloWorldGo"
   ]
  },
  {
   "cell_type": "markdown",
   "metadata": {
    "collapsed": false
   },
   "source": [
    "We have seen how we can combine several executables in an image, and we can imagine creating a toolset container in this way (with some more useful executable tools!)"
   ]
  },
  {
   "cell_type": "markdown",
   "metadata": {
    "collapsed": true
   },
   "source": [
    "<a name=\"small-push\"/>\n",
    "## Pushing our image to Docker Hub\n",
    "[TOP](#TOP)\n",
    "\n",
    "**Note:** If you have your own account on Docker Hub you may wish to use that for this exercise.\n",
    "\n",
    "**Otherwise** we will all be using the same account **'dockerlabs'** so you will need to specify a tag which\n",
    "distinguishes your images from your neighbours.\n",
    "\n",
    "\n",
    "<font size=+1 color=\"#77f\">\n",
    "<b>The goal of this step is to demonstrate how we may push an image which we have built to the Docker Hub.</b>\n",
    "</font>\n",
    "\n",
    "First we will retag our local image to be unique.\n",
    "If you are on <font size=+1 color=\"#d88\">podN</font>, then tag with <font size=+1 color=\"#d88\">userN</font>,\n",
    "\n",
    "e.g. if you are <font size=+1 color=\"#d88\">pod3</font>,\n",
    "\n",
    "<font size=+1 color=\"#d88\"><br/>&nbsp;&nbsp;&nbsp;&nbsp;\n",
    "docker tag lab/toolset dockerlabs/toolset:user3\n",
    "</font>\n",
    "\n",
    "Notice that we then have 2 toolset images with different tags.\n",
    "\n",
    "They are otherwise identical (but they could be different) and have the same \"IMAGE ID\"."
   ]
  },
  {
   "cell_type": "code",
   "execution_count": null,
   "metadata": {
    "collapsed": false
   },
   "outputs": [],
   "source": [
    "docker tag lab/toolset:latest dockerlabs/toolset:userN\n",
    "docker images */toolset"
   ]
  },
  {
   "cell_type": "markdown",
   "metadata": {},
   "source": [
    "First we must login to the Docker Hub.\n",
    "\n",
    "Ask you instructor for the password to the dockerlabs account."
   ]
  },
  {
   "cell_type": "code",
   "execution_count": null,
   "metadata": {
    "collapsed": false
   },
   "outputs": [],
   "source": [
    "docker login -u dockerlabs -p $PASSWORD -e dockerlabs@mjbright.net"
   ]
  },
  {
   "cell_type": "markdown",
   "metadata": {},
   "source": [
    "Now we may push our image to the public Docker Hub"
   ]
  },
  {
   "cell_type": "code",
   "execution_count": null,
   "metadata": {
    "collapsed": false
   },
   "outputs": [],
   "source": [
    "docker push dockerlabs/toolset:userN"
   ]
  },
  {
   "cell_type": "markdown",
   "metadata": {},
   "source": [
    "**NOTE:** The docker search command is not very useful.\n",
    "\n",
    "and the below command doesn't show us the tags ... and so we don't know if the below image is tagged user1, user2, ..."
   ]
  },
  {
   "cell_type": "code",
   "execution_count": null,
   "metadata": {
    "collapsed": false
   },
   "outputs": [],
   "source": [
    "docker search dockerlabs/"
   ]
  },
  {
   "cell_type": "markdown",
   "metadata": {},
   "source": [
    "### Logging on to DockerHub to see your tagged image there\n",
    "\n",
    "So for this step, log onto DockerHub\n",
    "    https://hub.docker.com/"
   ]
  },
  {
   "cell_type": "code",
   "execution_count": null,
   "metadata": {
    "collapsed": false
   },
   "outputs": [],
   "source": [
    "# Ignore this line: it is just to display the image below\n",
    "\n",
    "curl -s 'http://image.slidesharecdn.com/dockerdemystifiedforsbjug-150918181554-lva1-app6892/95/docker-demystified-for-sb-jug-34-638.jpg' | display"
   ]
  },
  {
   "cell_type": "markdown",
   "metadata": {},
   "source": [
    "As dockerlabs (dockerlabs AT mjbright.net) with the appropriate password (ask your instructor)\n",
    "\n",
    "Once logged you should see the dockerlabs/toolset listed, otherwise you can search for it.\n",
    "\n",
    "Click on the [dockerlabs/toolset](https://hub.docker.com/r/dockerlabs/toolset/) link, then on the [Tags](https://hub.docker.com/r/dockerlabs/toolset/tags/) link and you should now see your tagged image there."
   ]
  },
  {
   "cell_type": "markdown",
   "metadata": {},
   "source": [
    "#### Remove any running *'dockerlabs/toolset'* containers on your system\n",
    "\n",
    "We do this step to make sure we can easily delete your local dockerlabs/toolset:userN image.\n",
    "\n",
    "These steps could be done by hand through use of 'docker ps' and 'docker ps -a' and picking containers ids corresponding to 'dockerlabs/toolset' containers to use with 'docker stop' and 'docker rm' commands.\n",
    "\n",
    "The below expressions do this automatically for us."
   ]
  },
  {
   "cell_type": "code",
   "execution_count": null,
   "metadata": {
    "collapsed": false
   },
   "outputs": [],
   "source": [
    "IMAGE_NAME=dockerlabs/toolset\n",
    "\n",
    "echo; echo \"Currently running or stopped '$IMAGE_NAME' containers\"\n",
    "docker ps -a --filter=ancestor=$IMAGE_NAME\n",
    "\n",
    "echo; echo \"Stopping any running '$IMAGE_NAME' containers (so we can remove dockerlabs/ image)\"\n",
    "docker stop $(docker ps --filter=ancestor=$IMAGE_NAME) 2>/dev/null\n",
    "\n",
    "echo; echo \"Removing any stopped '$IMAGE_NAME' containers (so we can remove dockerlabs/ image)\"\n",
    "docker rm $(docker ps -a --filter=ancestor=$IMAGE_NAME) 2>/dev/null\n",
    "\n",
    "echo; echo \"There should be no more '$IMAGE_NAME' containers present:\"\n",
    "docker ps -a --filter=ancestor=$IMAGE_NAME"
   ]
  },
  {
   "cell_type": "code",
   "execution_count": null,
   "metadata": {
    "collapsed": false
   },
   "outputs": [],
   "source": [
    "docker images dockerlabs/*"
   ]
  },
  {
   "cell_type": "markdown",
   "metadata": {},
   "source": [
    "Note that the following rmi command 'Untags' the image.\n",
    "\n",
    "This is because it is the same - has the same image id - as our original 'lab/toolset' image.\n",
    "\n",
    "Removing the dockerlabs/toolset image does not remove the identical 'lab/toolset' image but removes the 'dockerlabs/toolset' tag."
   ]
  },
  {
   "cell_type": "code",
   "execution_count": null,
   "metadata": {
    "collapsed": false
   },
   "outputs": [],
   "source": [
    "docker rmi dockerlabs/toolset:userN"
   ]
  },
  {
   "cell_type": "code",
   "execution_count": null,
   "metadata": {
    "collapsed": false
   },
   "outputs": [],
   "source": [
    "docker images dockerlabs/*"
   ]
  },
  {
   "cell_type": "markdown",
   "metadata": {},
   "source": [
    "As we have removed ('untagged') the dockerlabs/toolset image, the following run command will download it from the Docker Hub"
   ]
  },
  {
   "cell_type": "code",
   "execution_count": null,
   "metadata": {
    "collapsed": false
   },
   "outputs": [],
   "source": [
    "docker run dockerlabs/toolset:userN"
   ]
  },
  {
   "cell_type": "code",
   "execution_count": null,
   "metadata": {
    "collapsed": false
   },
   "outputs": [],
   "source": [
    "docker images dockerlabs/*"
   ]
  },
  {
   "cell_type": "code",
   "execution_count": null,
   "metadata": {
    "collapsed": false
   },
   "outputs": [],
   "source": [
    "docker run dockerlabs/toolset:userN /helloWorld"
   ]
  },
  {
   "cell_type": "code",
   "execution_count": null,
   "metadata": {
    "collapsed": false
   },
   "outputs": [],
   "source": [
    "docker run dockerlabs/toolset:userN /hello"
   ]
  },
  {
   "cell_type": "markdown",
   "metadata": {},
   "source": [
    "<a name=\"build-best-practices\"/>\n",
    "## Dockerfile best practices\n",
    "[TOP](#TOP)\n",
    "\n",
    "<font size=+1 color=\"#77f\">\n",
    "<b>The goal of this step is to demonstrate certain Dockerfile optimizations.</b>\n",
    "</font>\n",
    "\n",
    "- group related commands together using '&&' to reduce image layers\n",
    "- if temporary files are to be removed\n"
   ]
  },
  {
   "cell_type": "code",
   "execution_count": null,
   "metadata": {
    "collapsed": false
   },
   "outputs": [],
   "source": [
    "cd ~/src/build-best-practices\n",
    "cat Dockerfile"
   ]
  },
  {
   "cell_type": "markdown",
   "metadata": {
    "collapsed": true
   },
   "source": [
    "TO be completed ... !!"
   ]
  },
  {
   "cell_type": "markdown",
   "metadata": {},
   "source": [
    "<a name=\"lang-stacks\" />\n",
    "## Using the official 'Language Stack' images\n",
    "[TOP](#TOP)\n",
    "\n",
    "<a name=\"medium-node\" />\n",
    "## Creating a Node.js application from the Node.js 'LanguageStack' Docker image\n",
    "[TOP](#TOP)\n",
    "\n",
    "Docker provide a set of *'Language Stacks'* which are medium sized images representing the necessary dependencies for a particular language.\n",
    "\n",
    "<font size=+1 color=\"#77f\">\n",
    "<b>The goal of this step is to demonstrate the use of Docker-provided *Language Stacks*.</b>\n",
    "</font>\n",
    "\n",
    "On the [Docker Hub](https://hub.docker.com/) we can find language stacks available for a variety of languages/environments, each with different release versions (Python 2.x and Python 3.x for example):\n",
    "- [Node.js (Javascript)](https://hub.docker.com/_/node/)\n",
    "- [Python](https://hub.docker.com/_/python/)\n",
    "- [Ruby](https://hub.docker.com/_/ruby/)\n",
    "\n",
    "You can browse the complete list of *'Official Images*' on the Docker Hub [here](https://hub.docker.com/explore/)\n",
    "\n",
    "Now let's look at an example of Node.js.\n",
    "To run a Node.js application this time we will need\n",
    "\n"
   ]
  },
  {
   "cell_type": "code",
   "execution_count": null,
   "metadata": {
    "collapsed": false
   },
   "outputs": [],
   "source": [
    "docker pull node"
   ]
  },
  {
   "cell_type": "code",
   "execution_count": null,
   "metadata": {
    "collapsed": false
   },
   "outputs": [],
   "source": [
    "docker images node"
   ]
  },
  {
   "cell_type": "code",
   "execution_count": null,
   "metadata": {
    "collapsed": false
   },
   "outputs": [],
   "source": [
    "docker history node"
   ]
  },
  {
   "cell_type": "code",
   "execution_count": null,
   "metadata": {
    "collapsed": false
   },
   "outputs": [],
   "source": [
    "cd ~/src/nodeJS/\n",
    "ls -altr"
   ]
  },
  {
   "cell_type": "markdown",
   "metadata": {},
   "source": [
    "Once again edit the Dockerfile to have the contents shown below:"
   ]
  },
  {
   "cell_type": "code",
   "execution_count": null,
   "metadata": {
    "collapsed": false
   },
   "outputs": [],
   "source": [
    "cat Dockerfile"
   ]
  },
  {
   "cell_type": "markdown",
   "metadata": {},
   "source": [
    "Now let's build  the image"
   ]
  },
  {
   "cell_type": "code",
   "execution_count": null,
   "metadata": {
    "collapsed": false
   },
   "outputs": [],
   "source": [
    "docker build -t node-hello ."
   ]
  },
  {
   "cell_type": "markdown",
   "metadata": {},
   "source": [
    "and run the image in the background, exposing port 80"
   ]
  },
  {
   "cell_type": "code",
   "execution_count": null,
   "metadata": {
    "collapsed": false
   },
   "outputs": [],
   "source": [
    "docker run -p 80:80 --name web -d node-hello"
   ]
  },
  {
   "cell_type": "markdown",
   "metadata": {},
   "source": [
    "Now let's use curl to access this container (default port for curl is 80)"
   ]
  },
  {
   "cell_type": "code",
   "execution_count": null,
   "metadata": {
    "collapsed": false
   },
   "outputs": [],
   "source": [
    "curl http://localhost"
   ]
  },
  {
   "cell_type": "markdown",
   "metadata": {},
   "source": [
    "<a name=\"medium-python\"/>\n",
    "## Creating a Python application from the Python 'LanguageStack' Docker image\n",
    "[TOP](#TOP)\n",
    "\n",
    "<font size=+1 color=\"#77f\">\n",
    "<b>The goal of this step is to demonstrate the use of the Python *Language Stack*.</b>\n",
    "</font>\n",
    "\n",
    "Now let's look at a Python example.\n",
    "To run a Node.js application this time we will need\n"
   ]
  },
  {
   "cell_type": "markdown",
   "metadata": {
    "collapsed": true
   },
   "source": [
    "Let's pull and examine the official 'Docker Language Stack' image of Python\n",
    "\n",
    "Note how the earliest image layers (at the bottom of the list) have the same image ids\n",
    "as the earliest image layers of the Node;js image.\n",
    "\n",
    "So we can see that they were both created from the same base."
   ]
  },
  {
   "cell_type": "code",
   "execution_count": null,
   "metadata": {
    "collapsed": false
   },
   "outputs": [],
   "source": [
    "docker pull python"
   ]
  },
  {
   "cell_type": "code",
   "execution_count": null,
   "metadata": {
    "collapsed": false
   },
   "outputs": [],
   "source": [
    "docker images python"
   ]
  },
  {
   "cell_type": "code",
   "execution_count": null,
   "metadata": {
    "collapsed": false
   },
   "outputs": [],
   "source": [
    "docker history python"
   ]
  },
  {
   "cell_type": "markdown",
   "metadata": {},
   "source": [
    "The following command will run the 'python' docker image, invoking the command 'python --version' to show us which default python version is available."
   ]
  },
  {
   "cell_type": "code",
   "execution_count": null,
   "metadata": {
    "collapsed": false
   },
   "outputs": [],
   "source": [
    "docker run python python --version"
   ]
  },
  {
   "cell_type": "markdown",
   "metadata": {},
   "source": [
    "Now let's look at extending this to a small 2-tier application with Flask web server as front-end and Redis as a backend database (counter) to count access to a web page.\n",
    "\n",
    "To run this application create a Dockerfile with the following contents in the 'python_flask' directory"
   ]
  },
  {
   "cell_type": "code",
   "execution_count": null,
   "metadata": {
    "collapsed": false
   },
   "outputs": [],
   "source": [
    "cd ~/src/python_flask\n",
    "cat Dockerfile"
   ]
  },
  {
   "cell_type": "code",
   "execution_count": null,
   "metadata": {
    "collapsed": false
   },
   "outputs": [],
   "source": [
    "docker build -t lab/python_flask .\n"
   ]
  },
  {
   "cell_type": "code",
   "execution_count": null,
   "metadata": {
    "collapsed": false
   },
   "outputs": [],
   "source": [
    "docker images lab/*"
   ]
  },
  {
   "cell_type": "markdown",
   "metadata": {},
   "source": [
    "Now let's run this container in the background"
   ]
  },
  {
   "cell_type": "markdown",
   "metadata": {},
   "source": [
    "First we must launch our redis DB as a background container, it will be used to count the number of page accesses.\n",
    "\n",
    "For this we launch a container instance of the 'redis' image, as a background process (-d) and we also give the instance the name 'redis' also. This will allow our 'flask' container to link to this image"
   ]
  },
  {
   "cell_type": "code",
   "execution_count": null,
   "metadata": {
    "collapsed": false
   },
   "outputs": [],
   "source": [
    "docker run -d --name redis redis"
   ]
  },
  {
   "cell_type": "markdown",
   "metadata": {},
   "source": [
    "Now we launch our 'flask' image which will be our web server.\n",
    "\n",
    "We also launch that container in the background.  Note that we link to the 'redis' container.  This allows the 'flask' container to connect to the redis database to get and increment the counter value"
   ]
  },
  {
   "cell_type": "code",
   "execution_count": null,
   "metadata": {
    "collapsed": false
   },
   "outputs": [],
   "source": [
    "docker run -d --link redis:db -p 5000:5000 lab/python_flask"
   ]
  },
  {
   "cell_type": "markdown",
   "metadata": {},
   "source": [
    "Now as we make successive curl (or web browser) requests to our 'flask' web server we see that page access counter gets incremented"
   ]
  },
  {
   "cell_type": "code",
   "execution_count": null,
   "metadata": {
    "collapsed": false
   },
   "outputs": [],
   "source": [
    "curl http://localhost:5000"
   ]
  },
  {
   "cell_type": "code",
   "execution_count": null,
   "metadata": {
    "collapsed": false
   },
   "outputs": [],
   "source": [
    "curl http://localhost:5000"
   ]
  },
  {
   "cell_type": "code",
   "execution_count": null,
   "metadata": {
    "collapsed": false
   },
   "outputs": [],
   "source": [
    "curl http://localhost:5000"
   ]
  },
  {
   "cell_type": "code",
   "execution_count": null,
   "metadata": {
    "collapsed": false
   },
   "outputs": [],
   "source": [
    "curl http://localhost:5000"
   ]
  },
  {
   "cell_type": "markdown",
   "metadata": {},
   "source": [
    "  <a name=\"Compose\" />\n",
    "#   Using Compose\n",
    "<a href=\"#TOP\">TOP</a>\n",
    "  \n",
    "#   Building complex systems with Compose\n",
    "<a href=\"#TOP\">TOP</a>"
   ]
  },
  {
   "cell_type": "code",
   "execution_count": null,
   "metadata": {
    "collapsed": false
   },
   "outputs": [],
   "source": [
    "cd ~/src/compose"
   ]
  },
  {
   "cell_type": "markdown",
   "metadata": {},
   "source": [
    "Create a docker-compose.yml specification file with the following contents.\n",
    "\n",
    "This is a 2-tier architecture with "
   ]
  },
  {
   "cell_type": "code",
   "execution_count": null,
   "metadata": {
    "collapsed": false
   },
   "outputs": [],
   "source": [
    "cat docker-compose.yml"
   ]
  },
  {
   "cell_type": "markdown",
   "metadata": {},
   "source": [
    "Let's look at the docker-compose options"
   ]
  },
  {
   "cell_type": "code",
   "execution_count": null,
   "metadata": {
    "collapsed": false
   },
   "outputs": [],
   "source": [
    "docker-compose"
   ]
  },
  {
   "cell_type": "markdown",
   "metadata": {},
   "source": [
    "Let's first do some cleanup of any existing containers invoked by compose"
   ]
  },
  {
   "cell_type": "code",
   "execution_count": null,
   "metadata": {
    "collapsed": false
   },
   "outputs": [],
   "source": [
    "docker-compose stop"
   ]
  },
  {
   "cell_type": "code",
   "execution_count": null,
   "metadata": {
    "collapsed": false
   },
   "outputs": [],
   "source": [
    "docker-compose rm -f"
   ]
  },
  {
   "cell_type": "markdown",
   "metadata": {},
   "source": [
    "Remove any other containers which might be listening on port 80 - here we stop and remove all containers to be sure"
   ]
  },
  {
   "cell_type": "code",
   "execution_count": null,
   "metadata": {
    "collapsed": false
   },
   "outputs": [],
   "source": [
    "docker stop $(docker ps -q)\n",
    "docker rm $(docker ps -aq)"
   ]
  },
  {
   "cell_type": "markdown",
   "metadata": {},
   "source": [
    "Now we will startup our system.\n",
    "\n",
    "&nbsp;&nbsp;&nbsp;&nbsp;&nbsp;&nbsp;&nbsp;docker-compose up\n",
    "\n",
    "will startup the containers specified in docker-compose.yml (first building any images where 'build:' is specified)\n",
    "\n",
    "Launching in the foreground will produce the following output:\n",
    "\n",
    "```\n",
    "Creating compose_webc_1\n",
    "Building weba\n",
    "Step 1 : FROM node\n",
    " ---> baa18fdeb577\n",
    "Step 2 : ADD src/ /src\n",
    " ---> Using cache\n",
    " ---> 6d6e1fb506d4\n",
    "Step 3 : WORKDIR /src\n",
    " ---> Using cache\n",
    " ---> f293e728d28f\n",
    "Step 4 : RUN npm install\n",
    " ---> Using cache\n",
    " ---> 16107856389c\n",
    "Step 5 : EXPOSE 80\n",
    " ---> Using cache\n",
    " ---> eed510133b6b\n",
    "Step 6 : CMD node index.js\n",
    " ---> Using cache\n",
    " ---> 2e6df94ecab1\n",
    "Successfully built 2e6df94ecab1\n",
    "Creating compose_weba_1\n",
    "Creating compose_haproxy_1\n",
    "Attaching to compose_webb_1, compose_webc_1, compose_weba_1, compose_haproxy_1\n",
    "webb_1    | Running on http://localhost\n",
    "webc_1    | Running on http://localhost\n",
    "weba_1    | Running on http://localhost\n",
    "haproxy_1 | [WARNING] 038/165945 (1) : Server aj_backends/weba is UP, reason: Layer7 check passed, code: 200, info: \"HTTP status check returned code <3C>200<3E>\", check duration: 6ms. 3 active and 0 backup servers online. 0 sessions requeued, 0 total in queue.\n",
    "```\n",
    "\n",
    "where we see that the necessary images were built and then started.\n",
    "We also see startup of the haproxy container and it's checks that it can contact the web servers.\n",
    "\n",
    "Let's start the containers in the background"
   ]
  },
  {
   "cell_type": "code",
   "execution_count": null,
   "metadata": {
    "collapsed": false
   },
   "outputs": [],
   "source": [
    "docker-compose up -d"
   ]
  },
  {
   "cell_type": "markdown",
   "metadata": {},
   "source": [
    "Now we can see that appropriate images have been built and we can also use 'docker-compose ps' to see the running elements of our system"
   ]
  },
  {
   "cell_type": "code",
   "execution_count": null,
   "metadata": {
    "collapsed": false
   },
   "outputs": [],
   "source": [
    "docker images compose*"
   ]
  },
  {
   "cell_type": "code",
   "execution_count": null,
   "metadata": {
    "collapsed": false
   },
   "outputs": [],
   "source": [
    "docker-compose ps"
   ]
  },
  {
   "cell_type": "markdown",
   "metadata": {},
   "source": [
    "Now we can use curl connecting to localhost:80 (on which the haproxy container is listening) and we will see how haproxy is doing roundrobin scheduling to each of our web containers"
   ]
  },
  {
   "cell_type": "code",
   "execution_count": null,
   "metadata": {
    "collapsed": false
   },
   "outputs": [],
   "source": [
    "curl localhost:80"
   ]
  },
  {
   "cell_type": "code",
   "execution_count": null,
   "metadata": {
    "collapsed": false
   },
   "outputs": [],
   "source": [
    "curl localhost:80"
   ]
  },
  {
   "cell_type": "code",
   "execution_count": null,
   "metadata": {
    "collapsed": false
   },
   "outputs": [],
   "source": [
    "curl localhost:80"
   ]
  },
  {
   "cell_type": "markdown",
   "metadata": {},
   "source": [
    "Note how the container id changes each time.\n",
    "\n",
    "Now we can try scaling one of our services as shown below:"
   ]
  },
  {
   "cell_type": "code",
   "execution_count": null,
   "metadata": {
    "collapsed": false
   },
   "outputs": [],
   "source": [
    "docker-compose scale weba=5"
   ]
  },
  {
   "cell_type": "markdown",
   "metadata": {},
   "source": [
    "With 'docker-compose ps' we see that we now have scaled to 5 'weba' servers:"
   ]
  },
  {
   "cell_type": "code",
   "execution_count": null,
   "metadata": {
    "collapsed": false
   },
   "outputs": [],
   "source": [
    "docker-compose ps"
   ]
  },
  {
   "cell_type": "code",
   "execution_count": null,
   "metadata": {
    "collapsed": false
   },
   "outputs": [],
   "source": [
    "curl localhost:80\n",
    "curl localhost:80\n",
    "curl localhost:80\n",
    "curl localhost:80\n",
    "curl localhost:80\n",
    "curl localhost:80"
   ]
  },
  {
   "cell_type": "markdown",
   "metadata": {},
   "source": [
    "Now let's stop our current system"
   ]
  },
  {
   "cell_type": "code",
   "execution_count": null,
   "metadata": {
    "collapsed": false
   },
   "outputs": [],
   "source": [
    "docker-compose stop\n",
    "docker-compose rm -f\n",
    "docker-compose ps"
   ]
  },
  {
   "cell_type": "markdown",
   "metadata": {},
   "source": [
    "<a name=\"building-docker\" />\n",
    "# Building Docker\n",
    "<a href=\"#TOP\">TOP</a>\n",
    "\n",
    "<a name=\"Building-Docker-with-Docker\" />\n",
    "# Building Docker with Docker\n",
    "<a href=\"#TOP\">TOP</a>\n",
    "\n",
    "A major advantage of Docker is to simplify build environments.\n",
    "\n",
    "Let's look at how we can build the Docker engine client/daemon binary without having to explicitly install a development environment.\n",
    "\n",
    "<font size=+1 color=\"#77f\">\n",
    "<b>The goal of this step is simply to show the ease with which we can build Docker, thanks to Docker itself.</b>   \n",
    "</font>\n",
    "\n",
    "We do not make particular use of the built image.\n",
    "\n",
    "The process involves the following steps, several of which have already been performed so as to prevent excessive network utilisation during the lab.  Nevertheless all steps are  described here so that you can see just how easy it is to build Docker from scratch:\n",
    "- Install make\n",
    "- Clone the Docker source code\n",
    "- Checkout the same code revision as our current Docker binary (client and daemon)\n",
    "- Build the code - which pulls the docker-dev image containing the required version of the Go compiler\n",
    "- Run the executable to demonstrate it is correct\n",
    "\n",
    "#### Installing make\n",
    "\n",
    "In your environment we have already installed the make package, but no compiler using yum:\n",
    "\n",
    "    yum install make\n",
    "\n",
    "#### Cloning the Docker source code\n",
    "\n",
    "We have already downloaded the Docker source code from github as follows:\n",
    "\n",
    "    mkdir -p /root/src/docker\n",
    "    cd /root/src/docker\n",
    "    git clone https://github.com/docker/docker .\n",
    "\n",
    "To build Docker we simply have to build using the\n",
    "\n",
    "    make build\n",
    "    \n",
    "command.\n",
    "\n",
    "#### Checkout the source code revision corresponding to our installed Docker Engine\n",
    "\n",
    "If we build the latest sources this may not be compatible with our installed Docker version.\n",
    "\n",
    "This is the case.  We have 1.10.0-rc2 installed, which has API version 22, but the current github source is 1.10.0-dev which has changed to API version 23.  So if we build this we find that we cannot use this client to communicate with the installed daemon.\n",
    "\n",
    "So let's checkout the code for 1.10.0-rc2.\n",
    "\n",
    "At the time of writing this is the latest release(candidate) of the Docker engine.\n",
    "We can obtain that version of the source code by referring to the releases page https://github.com/docker/docker/releases\n",
    "and selecting the SHA1 hash of build 1.10.0-rc2 \n",
    "\n",
    "    git checkout c1cdc6e\n",
    "\n",
    "\n",
    "\n",
    "#### Build the code - which pulls the docker-dev image containing the required version of the Go compiler\n",
    "\n",
    "We can build the code as follows:\n",
    "\n",
    "    make build\n",
    "    \n",
    "We have run 'make build' already, so the docker-dev image has already been downloaded (again to prevent excessive network traffic).  The docker-dev image includes the required go compiler and other build tools.\n",
    "\n",
    "Run 'make build' again and you will see a standard build process and finally where it places the compiled binary\n",
    "\n",
    "#### Run the executable to demonstrate it is correct\n",
    "\n",
    "In preparation for the lab we built from the latest source (not the c1cdc6e version we checked out).\n",
    "\n",
    "Run this build as follows to see that it is not compatible with the installed binary (/usr/bin/docker).\n",
    "We see that this binary has version 1.10.0-dev and API version 1.23 but that this cannot communicate with our installed binary which has API version 1.22."
   ]
  },
  {
   "cell_type": "code",
   "execution_count": null,
   "metadata": {
    "collapsed": false
   },
   "outputs": [],
   "source": [
    "cd /root/src/docker; ls -altr bundles/1.10.0-dev/binary/docker-1.10.0-dev; ./bundles/1.10.0-dev/binary/docker version"
   ]
  },
  {
   "cell_type": "markdown",
   "metadata": {},
   "source": [
    "But if we run our new build - as follows - created from revision c1cdc6e of the source code (corresponding to Docker version 1.10.0-rc2) we see that it has the correct version, with the same API version and can interrogate the server.\n"
   ]
  },
  {
   "cell_type": "code",
   "execution_count": null,
   "metadata": {
    "collapsed": false
   },
   "outputs": [],
   "source": [
    "cd /root/src/docker; ls -altr bundles/1.10.0-rc2/binary/docker-1.10.0-rc2; ./bundles/1.10.0-rc2/binary/docker version"
   ]
  },
  {
   "cell_type": "code",
   "execution_count": null,
   "metadata": {
    "collapsed": true
   },
   "outputs": [],
   "source": []
  },
  {
   "cell_type": "markdown",
   "metadata": {
    "collapsed": true
   },
   "source": [
    "# References\n",
    "[TOP](#TOP)\n",
    "\n",
    "- [Dockerfile Reference](https://docs.docker.com/engine/reference/builder/)\n",
    "\n",
    "- [Compose file documentation](https://docs.docker.com/compose/compose-file/)\n",
    "\n",
    "- [Compose file reference](https://github.com/docker/compose/blob/1.6.0-rc1/docs/compose-file.md)\n",
    "\n",
    "- [Visualizing Docker Containers and Images](http://merrigrove.blogspot.in/2015/10/visualizing-docker-containers-and-images.html)\n",
    "\n",
    "- [Awesome Docker](https://github.com/veggiemonk/awesome-docker)\n",
    "\n",
    "- [Docker Cheat Sheet]()\n",
    "\n",
    "- [Building Good Docker Images](http://jonathan.bergknoff.com/journal/building-good-docker-images)\n",
    "\n",
    "- [How to scale a Docker Container with Docker Compose](https://www.brianchristner.io/how-to-scale-a-docker-container-with-docker-compose/)\n",
    "\n",
    "- [Docker Compose Demo](https://github.com/vegasbrianc/docker-compose-demo)\n"
   ]
  },
  {
   "cell_type": "code",
   "execution_count": null,
   "metadata": {
    "collapsed": true
   },
   "outputs": [],
   "source": []
  }
 ],
 "metadata": {
  "kernelspec": {
   "display_name": "Bash",
   "language": "bash",
   "name": "bash"
  },
  "language_info": {
   "codemirror_mode": "shell",
   "file_extension": ".sh",
   "mimetype": "text/x-sh",
   "name": "bash"
  }
 },
 "nbformat": 4,
 "nbformat_minor": 0
}
